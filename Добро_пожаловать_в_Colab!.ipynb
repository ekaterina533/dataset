{
  "cells": [
    {
      "cell_type": "markdown",
      "metadata": {
        "id": "view-in-github",
        "colab_type": "text"
      },
      "source": [
        "<a href=\"https://colab.research.google.com/github/ekaterina533/dataset/blob/main/%D0%94%D0%BE%D0%B1%D1%80%D0%BE_%D0%BF%D0%BE%D0%B6%D0%B0%D0%BB%D0%BE%D0%B2%D0%B0%D1%82%D1%8C_%D0%B2_Colab!.ipynb\" target=\"_parent\"><img src=\"https://colab.research.google.com/assets/colab-badge.svg\" alt=\"Open In Colab\"/></a>"
      ]
    },
    {
      "cell_type": "markdown",
      "source": [
        "# Новый раздел"
      ],
      "metadata": {
        "id": "ngtGo_dt2zxL"
      }
    },
    {
      "cell_type": "code",
      "source": [
        "!pip install scapy dpkt pandas numpy scikit-learn matplotlib"
      ],
      "metadata": {
        "id": "s5xylx2h228I",
        "outputId": "ceb5ddf3-f4d1-4e5f-9fe3-213f87a6a272",
        "colab": {
          "base_uri": "https://localhost:8080/"
        }
      },
      "execution_count": 19,
      "outputs": [
        {
          "output_type": "stream",
          "name": "stdout",
          "text": [
            "Requirement already satisfied: scapy in /usr/local/lib/python3.11/dist-packages (2.6.1)\n",
            "Requirement already satisfied: dpkt in /usr/local/lib/python3.11/dist-packages (1.9.8)\n",
            "Requirement already satisfied: pandas in /usr/local/lib/python3.11/dist-packages (2.2.2)\n",
            "Requirement already satisfied: numpy in /usr/local/lib/python3.11/dist-packages (1.26.4)\n",
            "Requirement already satisfied: scikit-learn in /usr/local/lib/python3.11/dist-packages (1.6.1)\n",
            "Requirement already satisfied: matplotlib in /usr/local/lib/python3.11/dist-packages (3.10.0)\n",
            "Requirement already satisfied: python-dateutil>=2.8.2 in /usr/local/lib/python3.11/dist-packages (from pandas) (2.9.0.post0)\n",
            "Requirement already satisfied: pytz>=2020.1 in /usr/local/lib/python3.11/dist-packages (from pandas) (2025.2)\n",
            "Requirement already satisfied: tzdata>=2022.7 in /usr/local/lib/python3.11/dist-packages (from pandas) (2025.2)\n",
            "Requirement already satisfied: scipy>=1.6.0 in /usr/local/lib/python3.11/dist-packages (from scikit-learn) (1.15.3)\n",
            "Requirement already satisfied: joblib>=1.2.0 in /usr/local/lib/python3.11/dist-packages (from scikit-learn) (1.5.1)\n",
            "Requirement already satisfied: threadpoolctl>=3.1.0 in /usr/local/lib/python3.11/dist-packages (from scikit-learn) (3.6.0)\n",
            "Requirement already satisfied: contourpy>=1.0.1 in /usr/local/lib/python3.11/dist-packages (from matplotlib) (1.3.2)\n",
            "Requirement already satisfied: cycler>=0.10 in /usr/local/lib/python3.11/dist-packages (from matplotlib) (0.12.1)\n",
            "Requirement already satisfied: fonttools>=4.22.0 in /usr/local/lib/python3.11/dist-packages (from matplotlib) (4.58.5)\n",
            "Requirement already satisfied: kiwisolver>=1.3.1 in /usr/local/lib/python3.11/dist-packages (from matplotlib) (1.4.8)\n",
            "Requirement already satisfied: packaging>=20.0 in /usr/local/lib/python3.11/dist-packages (from matplotlib) (24.2)\n",
            "Requirement already satisfied: pillow>=8 in /usr/local/lib/python3.11/dist-packages (from matplotlib) (10.4.0)\n",
            "Requirement already satisfied: pyparsing>=2.3.1 in /usr/local/lib/python3.11/dist-packages (from matplotlib) (3.2.3)\n",
            "Requirement already satisfied: six>=1.5 in /usr/local/lib/python3.11/dist-packages (from python-dateutil>=2.8.2->pandas) (1.17.0)\n"
          ]
        }
      ]
    },
    {
      "cell_type": "code",
      "source": [
        "import os\n",
        "import zipfile\n",
        "import pandas as pd\n",
        "import numpy as np\n",
        "from sklearn.preprocessing import RobustScaler, LabelEncoder\n",
        "from sklearn.ensemble import IsolationForest\n",
        "import dpkt\n",
        "import socket\n",
        "from collections import Counter\n",
        "import matplotlib.pyplot as plt\n",
        "from urllib.request import urlretrieve\n"
      ],
      "metadata": {
        "id": "gQcq3cAg25Gb"
      },
      "execution_count": 21,
      "outputs": []
    },
    {
      "cell_type": "code",
      "source": [
        "\n",
        "# 1. Загрузка и распаковка архива\n",
        "def download_and_extract_zip():\n",
        "    zip_url = \"https://github.com/westermo/network-traffic-dataset/blob/main/data/extended/pcaps/right.zip\"\n",
        "    zip_path = \"right.zip\"\n",
        "    extract_dir = \"right\"\n",
        "\n",
        "    if not os.path.exists(extract_dir):\n",
        "        print(\"⬇️ Загрузка ZIP-архива...\")\n",
        "        urlretrieve(zip_url, zip_path)\n",
        "\n",
        "        print(\"📦 Распаковка архива...\")\n",
        "        with zipfile.ZipFile(zip_path, 'r') as zip_ref:\n",
        "            zip_ref.extractall(extract_dir)\n",
        "\n",
        "        os.remove(zip_path)\n",
        "\n",
        "    return [os.path.join(extract_dir, f) for f in os.listdir(extract_dir) if f.endswith('.pcap')]\n"
      ],
      "metadata": {
        "id": "me0uYkgS28Ov"
      },
      "execution_count": 34,
      "outputs": []
    },
    {
      "cell_type": "code",
      "source": [
        "# 2. Парсер PCAP с улучшенной обработкой ошибок\n",
        "def parse_pcap(file_path):\n",
        "    packets = []\n",
        "    with open(file_path, 'rb') as f:\n",
        "        try:\n",
        "            pcap = dpkt.pcap.Reader(f)\n",
        "            for ts, buf in pcap:\n",
        "                try:\n",
        "                    eth = dpkt.ethernet.Ethernet(buf)\n",
        "                    if not isinstance(eth.data, dpkt.ip.IP):\n",
        "                        continue\n",
        "\n",
        "                    ip = eth.data\n",
        "                    transport = ip.data\n",
        "\n",
        "                    packet = {\n",
        "                        'timestamp': ts,\n",
        "                        'src_ip': socket.inet_ntoa(ip.src),\n",
        "                        'dst_ip': socket.inet_ntoa(ip.dst),\n",
        "                        'length': ip.len,\n",
        "                        'ttl': ip.ttl,\n",
        "                        'protocol': 'other'\n",
        "                    }\n",
        "\n",
        "                    if isinstance(transport, dpkt.tcp.TCP):\n",
        "                        packet.update({\n",
        "                            'protocol': 'tcp',\n",
        "                            'src_port': transport.sport,\n",
        "                            'dst_port': transport.dport,\n",
        "                            'flags': transport.flags\n",
        "                        })\n",
        "                    elif isinstance(transport, dpkt.udp.UDP):\n",
        "                        packet.update({\n",
        "                            'protocol': 'udp',\n",
        "                            'src_port': transport.sport,\n",
        "                            'dst_port': transport.dport\n",
        "                        })\n",
        "\n",
        "                    packets.append(packet)\n",
        "                except Exception as e:\n",
        "                    continue\n",
        "        except Exception as e:\n",
        "            print(f\"⚠️ Ошибка чтения файла {file_path}: {str(e)}\")\n",
        "\n",
        "    return packets"
      ],
      "metadata": {
        "id": "fOX5pYdo3cdo"
      },
      "execution_count": 27,
      "outputs": []
    },
    {
      "cell_type": "code",
      "source": [
        "# 3. Оптимизированная предобработка данных\n",
        "def preprocess_data(packets):\n",
        "    if not packets:\n",
        "        return pd.DataFrame(), None, None\n",
        "\n",
        "    df = pd.DataFrame(packets)\n",
        "\n",
        "    # Заполнение пропусков\n",
        "    for col in ['src_port', 'dst_port', 'flags']:\n",
        "        if col in df.columns:\n",
        "            df[col] = df[col].fillna(0).astype(int)\n",
        "\n",
        "    # Кодирование категориальных признаков\n",
        "    encoders = {}\n",
        "    for col in ['src_ip', 'dst_ip', 'protocol']:\n",
        "        if col in df.columns:\n",
        "            encoders[col] = LabelEncoder()\n",
        "            df[col] = encoders[col].fit_transform(df[col].astype(str))\n",
        "\n",
        "    # Нормализация числовых признаков\n",
        "    numeric_cols = ['length', 'ttl', 'src_port', 'dst_port', 'flags']\n",
        "    numeric_cols = [col for col in numeric_cols if col in df.columns]\n",
        "\n",
        "    if numeric_cols:\n",
        "        scaler = RobustScaler()\n",
        "        df[numeric_cols] = scaler.fit_transform(df[numeric_cols])\n",
        "\n",
        "    return df, encoders, scaler"
      ],
      "metadata": {
        "id": "O1ERn-GC3leg"
      },
      "execution_count": 28,
      "outputs": []
    },
    {
      "cell_type": "code",
      "source": [
        "# 4. Визуализация данных\n",
        "def visualize_analysis(df):\n",
        "    plt.figure(figsize=(15, 10))\n",
        "\n",
        "    # Распределение протоколов\n",
        "    if 'protocol' in df.columns:\n",
        "        plt.subplot(2, 2, 1)\n",
        "        df['protocol'].value_counts().plot(kind='bar', color='skyblue')\n",
        "        plt.title('Protocol Distribution')\n",
        "\n",
        "    # Распределение длины пакетов\n",
        "    if 'length' in df.columns:\n",
        "        plt.subplot(2, 2, 2)\n",
        "        df['length'].plot(kind='hist', bins=50, color='salmon')\n",
        "        plt.title('Packet Length Distribution')\n",
        "\n",
        "    # Топ отправителей\n",
        "    if 'src_ip' in df.columns:\n",
        "        plt.subplot(2, 2, 3)\n",
        "        df['src_ip'].value_counts().head(10).plot(kind='bar', color='lightgreen')\n",
        "        plt.title('Top 10 Senders')\n",
        "\n",
        "    plt.tight_layout()\n",
        "    plt.show()"
      ],
      "metadata": {
        "id": "CMUpP2vR3swh"
      },
      "execution_count": 29,
      "outputs": []
    },
    {
      "cell_type": "code",
      "source": [
        "# 5. Анализ трафика и обнаружение атак\n",
        "def analyze_traffic(df):\n",
        "    if df.empty:\n",
        "        print(\"No data to analyze\")\n",
        "        return None\n",
        "\n",
        "    # Создаем метки атак (пример)\n",
        "    df['is_attack'] = (df['length'] > df['length'].quantile(0.95)).astype(int)\n",
        "    print(\"\\n🔍 Traffic Class Distribution:\")\n",
        "    print(Counter(df['is_attack']))\n",
        "\n",
        "    # Обучение модели\n",
        "    features = df.drop(['timestamp', 'is_attack'], axis=1, errors='ignore')\n",
        "    model = IsolationForest(n_estimators=100, contamination=0.05, random_state=42)\n",
        "    model.fit(features)\n",
        "\n",
        "    # Предсказание аномалий\n",
        "    df['anomaly'] = model.predict(features)\n",
        "    attacks = df[df['anomaly'] == -1]\n",
        "\n",
        "    print(f\"\\n🚨 Detected {len(attacks)} potential attacks\")\n",
        "    if not attacks.empty:\n",
        "        print(\"Sample attack packets:\")\n",
        "        print(attacks[['src_ip', 'dst_ip', 'protocol', 'length']].head(3))\n",
        "\n",
        "    return model\n"
      ],
      "metadata": {
        "id": "ipIMdmSd3w7_"
      },
      "execution_count": 30,
      "outputs": []
    },
    {
      "cell_type": "code",
      "source": [
        "# Главный блок выполнения\n",
        "def main():\n",
        "    print(\"🔄 Starting PCAP Analysis...\")\n",
        "\n",
        "    # Шаг 1: Загрузка данных\n",
        "    pcap_files = download_and_extract_zip()\n",
        "    print(f\"\\n📁 Files to process: {[os.path.basename(f) for f in pcap_files]}\")\n",
        "\n",
        "    # Шаг 2: Парсинг файлов\n",
        "    all_packets = []\n",
        "    for pcap_file in pcap_files:\n",
        "        print(f\"\\nProcessing {os.path.basename(pcap_file)}...\")\n",
        "        packets = parse_pcap(pcap_file)\n",
        "        print(f\"Extracted {len(packets)} packets\")\n",
        "        all_packets.extend(packets)\n",
        "\n",
        "    # Шаг 3: Предобработка\n",
        "    print(\"\\n🧹 Preprocessing data...\")\n",
        "    df, encoders, scaler = preprocess_data(all_packets)\n",
        "\n",
        "    if df.empty:\n",
        "        print(\"❌ No valid data found\")\n",
        "        return\n",
        "\n",
        "    # Шаг 4: Визуализация\n",
        "    print(\"\\n📊 Visualizing traffic patterns...\")\n",
        "    visualize_analysis(df)\n",
        "\n",
        "    # Шаг 5: Анализ\n",
        "    print(\"\\n🔍 Analyzing traffic for anomalies...\")\n",
        "    model = analyze_traffic(df)\n",
        "\n",
        "    print(\"\\n✅ Analysis completed successfully!\")\n"
      ],
      "metadata": {
        "id": "se_EWNMv32ZA"
      },
      "execution_count": 31,
      "outputs": []
    },
    {
      "cell_type": "code",
      "source": [
        "# Запуск анализа\n",
        "if __name__ == \"__main__\":\n",
        "    main()"
      ],
      "metadata": {
        "id": "4NuiMJs14DLx",
        "outputId": "f5392236-8b6f-46de-f0b4-a0d97832a8ce",
        "colab": {
          "base_uri": "https://localhost:8080/",
          "height": 374
        }
      },
      "execution_count": 33,
      "outputs": [
        {
          "output_type": "stream",
          "name": "stdout",
          "text": [
            "🔄 Starting PCAP Analysis...\n",
            "⬇️ Загрузка ZIP-архива...\n",
            "📦 Распаковка архива...\n"
          ]
        },
        {
          "output_type": "error",
          "ename": "BadZipFile",
          "evalue": "File is not a zip file",
          "traceback": [
            "\u001b[0;31m---------------------------------------------------------------------------\u001b[0m",
            "\u001b[0;31mBadZipFile\u001b[0m                                Traceback (most recent call last)",
            "\u001b[0;32m/tmp/ipython-input-33-2138915440.py\u001b[0m in \u001b[0;36m<cell line: 0>\u001b[0;34m()\u001b[0m\n\u001b[1;32m      1\u001b[0m \u001b[0;31m# Запуск анализа\u001b[0m\u001b[0;34m\u001b[0m\u001b[0;34m\u001b[0m\u001b[0m\n\u001b[1;32m      2\u001b[0m \u001b[0;32mif\u001b[0m \u001b[0m__name__\u001b[0m \u001b[0;34m==\u001b[0m \u001b[0;34m\"__main__\"\u001b[0m\u001b[0;34m:\u001b[0m\u001b[0;34m\u001b[0m\u001b[0;34m\u001b[0m\u001b[0m\n\u001b[0;32m----> 3\u001b[0;31m     \u001b[0mmain\u001b[0m\u001b[0;34m(\u001b[0m\u001b[0;34m)\u001b[0m\u001b[0;34m\u001b[0m\u001b[0;34m\u001b[0m\u001b[0m\n\u001b[0m",
            "\u001b[0;32m/tmp/ipython-input-31-2006657402.py\u001b[0m in \u001b[0;36mmain\u001b[0;34m()\u001b[0m\n\u001b[1;32m      4\u001b[0m \u001b[0;34m\u001b[0m\u001b[0m\n\u001b[1;32m      5\u001b[0m     \u001b[0;31m# Шаг 1: Загрузка данных\u001b[0m\u001b[0;34m\u001b[0m\u001b[0;34m\u001b[0m\u001b[0m\n\u001b[0;32m----> 6\u001b[0;31m     \u001b[0mpcap_files\u001b[0m \u001b[0;34m=\u001b[0m \u001b[0mdownload_and_extract_zip\u001b[0m\u001b[0;34m(\u001b[0m\u001b[0;34m)\u001b[0m\u001b[0;34m\u001b[0m\u001b[0;34m\u001b[0m\u001b[0m\n\u001b[0m\u001b[1;32m      7\u001b[0m     \u001b[0mprint\u001b[0m\u001b[0;34m(\u001b[0m\u001b[0;34mf\"\\n📁 Files to process: {[os.path.basename(f) for f in pcap_files]}\"\u001b[0m\u001b[0;34m)\u001b[0m\u001b[0;34m\u001b[0m\u001b[0;34m\u001b[0m\u001b[0m\n\u001b[1;32m      8\u001b[0m \u001b[0;34m\u001b[0m\u001b[0m\n",
            "\u001b[0;32m/tmp/ipython-input-26-1090249549.py\u001b[0m in \u001b[0;36mdownload_and_extract_zip\u001b[0;34m()\u001b[0m\n\u001b[1;32m     10\u001b[0m \u001b[0;34m\u001b[0m\u001b[0m\n\u001b[1;32m     11\u001b[0m         \u001b[0mprint\u001b[0m\u001b[0;34m(\u001b[0m\u001b[0;34m\"📦 Распаковка архива...\"\u001b[0m\u001b[0;34m)\u001b[0m\u001b[0;34m\u001b[0m\u001b[0;34m\u001b[0m\u001b[0m\n\u001b[0;32m---> 12\u001b[0;31m         \u001b[0;32mwith\u001b[0m \u001b[0mzipfile\u001b[0m\u001b[0;34m.\u001b[0m\u001b[0mZipFile\u001b[0m\u001b[0;34m(\u001b[0m\u001b[0mzip_path\u001b[0m\u001b[0;34m,\u001b[0m \u001b[0;34m'r'\u001b[0m\u001b[0;34m)\u001b[0m \u001b[0;32mas\u001b[0m \u001b[0mzip_ref\u001b[0m\u001b[0;34m:\u001b[0m\u001b[0;34m\u001b[0m\u001b[0;34m\u001b[0m\u001b[0m\n\u001b[0m\u001b[1;32m     13\u001b[0m             \u001b[0mzip_ref\u001b[0m\u001b[0;34m.\u001b[0m\u001b[0mextractall\u001b[0m\u001b[0;34m(\u001b[0m\u001b[0mextract_dir\u001b[0m\u001b[0;34m)\u001b[0m\u001b[0;34m\u001b[0m\u001b[0;34m\u001b[0m\u001b[0m\n\u001b[1;32m     14\u001b[0m \u001b[0;34m\u001b[0m\u001b[0m\n",
            "\u001b[0;32m/usr/lib/python3.11/zipfile.py\u001b[0m in \u001b[0;36m__init__\u001b[0;34m(self, file, mode, compression, allowZip64, compresslevel, strict_timestamps, metadata_encoding)\u001b[0m\n\u001b[1;32m   1311\u001b[0m         \u001b[0;32mtry\u001b[0m\u001b[0;34m:\u001b[0m\u001b[0;34m\u001b[0m\u001b[0;34m\u001b[0m\u001b[0m\n\u001b[1;32m   1312\u001b[0m             \u001b[0;32mif\u001b[0m \u001b[0mmode\u001b[0m \u001b[0;34m==\u001b[0m \u001b[0;34m'r'\u001b[0m\u001b[0;34m:\u001b[0m\u001b[0;34m\u001b[0m\u001b[0;34m\u001b[0m\u001b[0m\n\u001b[0;32m-> 1313\u001b[0;31m                 \u001b[0mself\u001b[0m\u001b[0;34m.\u001b[0m\u001b[0m_RealGetContents\u001b[0m\u001b[0;34m(\u001b[0m\u001b[0;34m)\u001b[0m\u001b[0;34m\u001b[0m\u001b[0;34m\u001b[0m\u001b[0m\n\u001b[0m\u001b[1;32m   1314\u001b[0m             \u001b[0;32melif\u001b[0m \u001b[0mmode\u001b[0m \u001b[0;32min\u001b[0m \u001b[0;34m(\u001b[0m\u001b[0;34m'w'\u001b[0m\u001b[0;34m,\u001b[0m \u001b[0;34m'x'\u001b[0m\u001b[0;34m)\u001b[0m\u001b[0;34m:\u001b[0m\u001b[0;34m\u001b[0m\u001b[0;34m\u001b[0m\u001b[0m\n\u001b[1;32m   1315\u001b[0m                 \u001b[0;31m# set the modified flag so central directory gets written\u001b[0m\u001b[0;34m\u001b[0m\u001b[0;34m\u001b[0m\u001b[0m\n",
            "\u001b[0;32m/usr/lib/python3.11/zipfile.py\u001b[0m in \u001b[0;36m_RealGetContents\u001b[0;34m(self)\u001b[0m\n\u001b[1;32m   1378\u001b[0m             \u001b[0;32mraise\u001b[0m \u001b[0mBadZipFile\u001b[0m\u001b[0;34m(\u001b[0m\u001b[0;34m\"File is not a zip file\"\u001b[0m\u001b[0;34m)\u001b[0m\u001b[0;34m\u001b[0m\u001b[0;34m\u001b[0m\u001b[0m\n\u001b[1;32m   1379\u001b[0m         \u001b[0;32mif\u001b[0m \u001b[0;32mnot\u001b[0m \u001b[0mendrec\u001b[0m\u001b[0;34m:\u001b[0m\u001b[0;34m\u001b[0m\u001b[0;34m\u001b[0m\u001b[0m\n\u001b[0;32m-> 1380\u001b[0;31m             \u001b[0;32mraise\u001b[0m \u001b[0mBadZipFile\u001b[0m\u001b[0;34m(\u001b[0m\u001b[0;34m\"File is not a zip file\"\u001b[0m\u001b[0;34m)\u001b[0m\u001b[0;34m\u001b[0m\u001b[0;34m\u001b[0m\u001b[0m\n\u001b[0m\u001b[1;32m   1381\u001b[0m         \u001b[0;32mif\u001b[0m \u001b[0mself\u001b[0m\u001b[0;34m.\u001b[0m\u001b[0mdebug\u001b[0m \u001b[0;34m>\u001b[0m \u001b[0;36m1\u001b[0m\u001b[0;34m:\u001b[0m\u001b[0;34m\u001b[0m\u001b[0;34m\u001b[0m\u001b[0m\n\u001b[1;32m   1382\u001b[0m             \u001b[0mprint\u001b[0m\u001b[0;34m(\u001b[0m\u001b[0mendrec\u001b[0m\u001b[0;34m)\u001b[0m\u001b[0;34m\u001b[0m\u001b[0;34m\u001b[0m\u001b[0m\n",
            "\u001b[0;31mBadZipFile\u001b[0m: File is not a zip file"
          ]
        }
      ]
    }
  ],
  "metadata": {
    "colab": {
      "name": "Добро пожаловать в Colab!",
      "provenance": [],
      "include_colab_link": true
    },
    "kernelspec": {
      "display_name": "Python 3",
      "name": "python3"
    }
  },
  "nbformat": 4,
  "nbformat_minor": 0
}